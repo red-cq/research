{
 "cells": [
  {
   "cell_type": "markdown",
   "id": "63edc4c8",
   "metadata": {},
   "source": [
    "# **⚡ Simulated Annealing x Mixing Properties**"
   ]
  },
  {
   "cell_type": "code",
   "execution_count": 1,
   "id": "e91d2ab2",
   "metadata": {},
   "outputs": [],
   "source": [
    "import numpy as np"
   ]
  },
  {
   "cell_type": "markdown",
   "id": "6a6fb641",
   "metadata": {},
   "source": [
    "## **⭕ Lennard Jones Potential**"
   ]
  },
  {
   "cell_type": "code",
   "execution_count": 2,
   "id": "c5be9e3e",
   "metadata": {},
   "outputs": [],
   "source": [
    "# Lennard-Jones potential function\n",
    "def lj_potential(positions, epsilon=1.0, sigma=1.0):\n",
    "    n_particles = positions.shape[0]\n",
    "    potential = 0.0\n",
    "    for i in range(n_particles):\n",
    "        for j in range(i + 1, n_particles):\n",
    "            r = np.linalg.norm(positions[i] - positions[j])\n",
    "            if r != 0:\n",
    "                sr6 = (sigma / r) ** 6\n",
    "                sr12 = sr6 ** 2\n",
    "                potential += 4 * epsilon * (sr12 - sr6)\n",
    "    return potential"
   ]
  },
  {
   "cell_type": "markdown",
   "id": "0bebed1d",
   "metadata": {},
   "source": [
    "## **🤖 Algorithm 11.1**"
   ]
  },
  {
   "cell_type": "code",
   "execution_count": 5,
   "id": "30531176",
   "metadata": {},
   "outputs": [],
   "source": [
    "def optimize_lj_tmcmc_enhanced(n_particles=5, N=10000, epsilon=1.0, sigma=1.0):\n",
    "    theta = np.random.uniform(-1.0, 1.0, (n_particles, 3))\n",
    "    best_theta = theta.copy()\n",
    "    best_energy = lj_potential(theta, epsilon, sigma)\n",
    "\n",
    "    a1 = 0.1\n",
    "    history = []\n",
    "\n",
    "    for t in range(1, N + 1):\n",
    "        # ------- Stage 1: Basic TMCMC Move -------\n",
    "        e1 = np.random.uniform(low=-1.0, high=1.0, size=(n_particles, 3))\n",
    "        e1[np.abs(e1) < 0.01] = 0.01 * np.sign(e1[np.abs(e1) < 0.01])\n",
    "\n",
    "        b = np.random.choice([-1, 1], size=(n_particles, 3))\n",
    "        U1 = np.random.uniform()\n",
    "\n",
    "        if U1 < 0.5:\n",
    "            theta_tilde = theta + b * a1 * np.abs(e1)\n",
    "            J = 1.0  # Additive Jacobian\n",
    "        else:\n",
    "            theta_tilde = theta * np.exp(b * a1 * np.abs(e1))\n",
    "            J = max(np.abs(e1).sum(), 1e-8)  # Avoid log(0)\n",
    "\n",
    "        E_current = lj_potential(theta, epsilon, sigma)\n",
    "        E_tilde = lj_potential(theta_tilde, epsilon, sigma)\n",
    "\n",
    "        ell_diff1 = -E_tilde + E_current\n",
    "        tau_t = 1 / np.log(t + 1) if t >= 100 else 1 / (t + 1)\n",
    "        expo1 = (ell_diff1 + np.log(J)) / tau_t\n",
    "        expo1 = np.clip(expo1, -700, 700)  # Avoid overflow\n",
    "        alpha1 = min(1.0, np.exp(expo1))\n",
    "\n",
    "        if np.random.rand() < alpha1:\n",
    "            theta = theta_tilde\n",
    "            if E_tilde < best_energy:\n",
    "                best_energy = E_tilde\n",
    "                best_theta = theta.copy()\n",
    "\n",
    "        # ------- Stage 2: Further Mixing -------\n",
    "        e3 = np.random.uniform(low=-1.0, high=1.0, size=(n_particles, 3))\n",
    "        e3[np.abs(e3) < 0.01] = 0.01 * np.sign(e3[np.abs(e3) < 0.01])\n",
    "        U2 = np.random.uniform()\n",
    "\n",
    "        if U2 < 0.5:\n",
    "            u1 = np.random.uniform()\n",
    "            if u1 < 0.5:\n",
    "                theta_star = theta + a1 * np.abs(e3)\n",
    "            else:\n",
    "                theta_star = theta - a1 * np.abs(e3)\n",
    "            J = 1.0\n",
    "        else:\n",
    "            e4 = np.random.choice([-1, 1], size=(n_particles, 3)) * 0.5\n",
    "            e4[np.abs(e4) < 1e-8] = 1e-8  # avoid division by zero\n",
    "\n",
    "            u2 = np.random.uniform()\n",
    "            if u2 < 0.5:\n",
    "                theta_star = theta * e4\n",
    "                J = max(np.abs(e4).sum(), 1e-8)\n",
    "            else:\n",
    "                theta_star = theta / e4\n",
    "                J = max((1 / np.abs(e4)).sum(), 1e-8)\n",
    "\n",
    "        E_star = lj_potential(theta_star, epsilon, sigma)\n",
    "        ell_diff2 = -E_star + lj_potential(theta, epsilon, sigma)\n",
    "        tau_t2 = 1 / np.log(t + 1) if t >= 100 else 1 / (t + 1)\n",
    "        expo2 = (ell_diff2 + np.log(J)) / tau_t2\n",
    "        expo2 = np.clip(expo2, -700, 700)\n",
    "        alpha2 = min(1.0, np.exp(expo2))\n",
    "\n",
    "        if np.random.rand() < alpha2:\n",
    "            theta = theta_star\n",
    "            if E_star < best_energy:\n",
    "                best_energy = E_star\n",
    "                best_theta = theta.copy()\n",
    "\n",
    "        history.append(best_energy)\n",
    "\n",
    "    return best_theta, best_energy, history"
   ]
  },
  {
   "cell_type": "markdown",
   "id": "6a0bdaed",
   "metadata": {},
   "source": [
    "## **🧪 Testing**"
   ]
  },
  {
   "cell_type": "code",
   "execution_count": 6,
   "id": "8484f0ff",
   "metadata": {},
   "outputs": [
    {
     "name": "stdout",
     "output_type": "stream",
     "text": [
      "Best particle positions:\n",
      " [[ 1.34954068  0.12483248 -1.57149937]\n",
      " [-1.5530553  -1.31539608 -1.06625568]\n",
      " [-1.35814854  0.1198172  -0.51412063]\n",
      " [-1.39545953 -1.97628077  2.21418743]\n",
      " [ 1.29268017  1.84356122 -0.96964936]\n",
      " [-0.57726945 -1.30703035  0.83783578]\n",
      " [-0.43498149  1.28577819  1.87820177]\n",
      " [ 2.16890387 -1.74348265 -0.78803318]\n",
      " [-1.24143804  0.57307596  1.60692705]\n",
      " [ 0.53920094 -0.16356946  1.18031284]]\n",
      "Minimum Lennard-Jones potential: -2.1799939678437457\n"
     ]
    }
   ],
   "source": [
    "# Run the enhanced optimizer\n",
    "best_positions, min_energy, energy_history = optimize_lj_tmcmc_enhanced(n_particles=10, N=5000)\n",
    "\n",
    "# Print results\n",
    "print(\"Best particle positions:\\n\", best_positions)\n",
    "print(\"Minimum Lennard-Jones potential:\", min_energy)"
   ]
  }
 ],
 "metadata": {
  "kernelspec": {
   "display_name": "Python 3",
   "language": "python",
   "name": "python3"
  },
  "language_info": {
   "codemirror_mode": {
    "name": "ipython",
    "version": 3
   },
   "file_extension": ".py",
   "mimetype": "text/x-python",
   "name": "python",
   "nbconvert_exporter": "python",
   "pygments_lexer": "ipython3",
   "version": "3.13.2"
  }
 },
 "nbformat": 4,
 "nbformat_minor": 5
}
